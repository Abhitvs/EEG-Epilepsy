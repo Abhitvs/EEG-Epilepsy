{
 "cells": [
  {
   "cell_type": "markdown",
   "metadata": {},
   "source": [
    "# Dataset 1: SNMC Patient-wise Excel Data Exploration\n",
    "\n",
    "This notebook demonstrates how to load and explore the SNMC patient-wise EEG data stored in Excel files.\n",
    "\n",
    "## Dataset Structure\n",
    "\n",
    "- **Location**: `data/raw/patient_wise_mat/`\n",
    "- **Files**: 12 patients × 4 books each = 48 Excel files\n",
    "- **Format**: Each Excel file contains multiple sheets\n",
    "- **Columns**: Time (HH-MM-SS) + 16 bipolar EEG channels\n",
    "- **Channels**:\n",
    "  - Right: FP2-F4, F4-C4, C4-P4, P4-O2, FP2-F8, F8-T4, T4-T6, T6-O2\n",
    "  - Left: FP1-F3, F3-C3, C3-P3, P3-O1, FP1-F7, F7-T3, T3-T5, T5-O1\n",
    "\n",
    "## Seizure Information\n",
    "\n",
    "- **Patient 1** (ID 363) → Has seizures\n",
    "- **Patient 11** (ID 1306) → Has seizures\n",
    "- All other patients → No seizures"
   ]
  },
  {
   "cell_type": "code",
   "execution_count": null,
   "metadata": {},
   "outputs": [],
   "source": [
    "import sys\n",
    "from pathlib import Path\n",
    "\n",
    "# Add src to path\n",
    "sys.path.insert(0, str(Path.cwd().parent / 'src'))\n",
    "\n",
    "import numpy as np\n",
    "import pandas as pd\n",
    "import matplotlib.pyplot as plt\n",
    "import seaborn as sns\n",
    "\n",
    "from loaders import (\n",
    "    load_patient_book,\n",
    "    load_patient_data,\n",
    "    list_available_snmc_files,\n",
    "    get_sheet_info,\n",
    "    extract_eeg_data,\n",
    "    convert_to_numpy,\n",
    "    has_seizures,\n",
    "    get_patient_seizure_id,\n",
    ")\n",
    "\n",
    "# Set plotting style\n",
    "sns.set_style('whitegrid')\n",
    "plt.rcParams['figure.figsize'] = (15, 8)"
   ]
  },
  {
   "cell_type": "markdown",
   "metadata": {},
   "source": [
    "## 1. List Available Files"
   ]
  },
  {
   "cell_type": "code",
   "execution_count": null,
   "metadata": {},
   "outputs": [],
   "source": [
    "# List all available patient files\n",
    "available_files = list_available_snmc_files()\n",
    "\n",
    "print(f\"Total patients found: {len(available_files)}\")\n",
    "print(\"\\nPatients and their files:\")\n",
    "for patient_id in sorted(available_files.keys()):\n",
    "    files = available_files[patient_id]\n",
    "    seizure_status = \"HAS SEIZURES\" if has_seizures(patient_id) else \"No seizures\"\n",
    "    seizure_id = get_patient_seizure_id(patient_id)\n",
    "    id_info = f\" (ID: {seizure_id})\" if seizure_id else \"\"\n",
    "    print(f\"  Patient {patient_id}{id_info}: {len(files)} books - {seizure_status}\")"
   ]
  },
  {
   "cell_type": "markdown",
   "metadata": {},
   "source": [
    "## 2. Load a Single Book (Excel File)\n",
    "\n",
    "Let's load one Excel file to see its structure:"
   ]
  },
  {
   "cell_type": "code",
   "execution_count": null,
   "metadata": {},
   "outputs": [],
   "source": [
    "# Check if we have any data\n",
    "if not available_files:\n",
    "    print(\"⚠️ No data files found!\")\n",
    "    print(\"Please download the SNMC dataset first:\")\n",
    "    print(\"  python scripts/download_datasets.py --dataset snmc\")\n",
    "else:\n",
    "    # Load Patient 1, Book 1 (patient with seizures)\n",
    "    patient_id = 1\n",
    "    book_file = available_files[patient_id][0]  # First book\n",
    "    \n",
    "    print(f\"Loading: {book_file}\")\n",
    "    sheets = load_patient_book(book_file)\n",
    "    \n",
    "    print(f\"\\nLoaded {len(sheets)} sheets:\")\n",
    "    for sheet_name in sheets.keys():\n",
    "        print(f\"  - {sheet_name}\")"
   ]
  },
  {
   "cell_type": "markdown",
   "metadata": {},
   "source": [
    "## 3. Examine a Single Sheet"
   ]
  },
  {
   "cell_type": "code",
   "execution_count": null,
   "metadata": {},
   "outputs": [],
   "source": [
    "if available_files:\n",
    "    # Get the first sheet\n",
    "    first_sheet_name = list(sheets.keys())[0]\n",
    "    first_sheet = sheets[first_sheet_name]\n",
    "    \n",
    "    print(f\"Sheet: {first_sheet_name}\")\n",
    "    print(f\"Shape: {first_sheet.shape}\")\n",
    "    print(f\"\\nColumns ({len(first_sheet.columns)}):\")\n",
    "    print(list(first_sheet.columns))\n",
    "    print(f\"\\nFirst few rows:\")\n",
    "    display(first_sheet.head())\n",
    "    \n",
    "    # Get sheet info\n",
    "    info = get_sheet_info(first_sheet)\n",
    "    print(f\"\\nSheet Info:\")\n",
    "    print(f\"  Rows: {info['n_rows']}\")\n",
    "    print(f\"  EEG Channels: {info['n_channels']}\")\n",
    "    print(f\"  Has Time Column: {info['has_time_column']}\")\n",
    "    if info['has_time_column']:\n",
    "        print(f\"  Time Column: {info['time_column']}\")"
   ]
  },
  {
   "cell_type": "markdown",
   "metadata": {},
   "source": [
    "## 4. Extract EEG Data"
   ]
  },
  {
   "cell_type": "code",
   "execution_count": null,
   "metadata": {},
   "outputs": [],
   "source": [
    "if available_files:\n",
    "    # Extract time and EEG data\n",
    "    time_series, eeg_data = extract_eeg_data(first_sheet)\n",
    "    \n",
    "    print(f\"Time series shape: {time_series.shape if time_series is not None else 'N/A'}\")\n",
    "    print(f\"EEG data shape: {eeg_data.shape}\")\n",
    "    print(f\"\\nEEG Channels ({len(eeg_data.columns)}):\")\n",
    "    for i, channel in enumerate(eeg_data.columns, 1):\n",
    "        print(f\"  {i:2d}. {channel}\")"
   ]
  },
  {
   "cell_type": "markdown",
   "metadata": {},
   "source": [
    "## 5. Convert to NumPy Arrays"
   ]
  },
  {
   "cell_type": "code",
   "execution_count": null,
   "metadata": {},
   "outputs": [],
   "source": [
    "if available_files:\n",
    "    # Convert to numpy arrays\n",
    "    arrays = convert_to_numpy(first_sheet)\n",
    "    \n",
    "    print(f\"Data array shape: {arrays['data'].shape}\")\n",
    "    print(f\"Channels: {arrays['channels']}\")\n",
    "    if 'time' in arrays:\n",
    "        print(f\"Time array shape: {arrays['time'].shape}\")\n",
    "    \n",
    "    # Basic statistics\n",
    "    print(f\"\\nData Statistics:\")\n",
    "    print(f\"  Mean: {np.mean(arrays['data']):.2f}\")\n",
    "    print(f\"  Std: {np.std(arrays['data']):.2f}\")\n",
    "    print(f\"  Min: {np.min(arrays['data']):.2f}\")\n",
    "    print(f\"  Max: {np.max(arrays['data']):.2f}\")"
   ]
  },
  {
   "cell_type": "markdown",
   "metadata": {},
   "source": [
    "## 6. Load Complete Patient Data\n",
    "\n",
    "Load all 4 books for a patient:"
   ]
  },
  {
   "cell_type": "code",
   "execution_count": null,
   "metadata": {},
   "outputs": [],
   "source": [
    "if available_files:\n",
    "    # Load all data for Patient 1 (has seizures)\n",
    "    patient_data = load_patient_data(1)\n",
    "    \n",
    "    print(f\"Patient ID: {patient_data['patient_id']}\")\n",
    "    print(f\"Seizure ID: {patient_data['seizure_id']}\")\n",
    "    print(f\"Has Seizures: {patient_data['has_seizures']}\")\n",
    "    print(f\"\\nMetadata:\")\n",
    "    print(f\"  Books loaded: {patient_data['metadata']['num_books']}\")\n",
    "    print(f\"  Total sheets: {patient_data['metadata']['total_sheets']}\")\n",
    "    \n",
    "    print(f\"\\nBooks and their sheets:\")\n",
    "    for book_num in sorted(patient_data['books'].keys()):\n",
    "        sheets = patient_data['books'][book_num]\n",
    "        print(f\"  Book {book_num}: {len(sheets)} sheets - {list(sheets.keys())}\")"
   ]
  },
  {
   "cell_type": "markdown",
   "metadata": {},
   "source": [
    "## 7. Visualize EEG Signals"
   ]
  },
  {
   "cell_type": "code",
   "execution_count": null,
   "metadata": {},
   "outputs": [],
   "source": [
    "if available_files:\n",
    "    # Plot first few channels from the first sheet\n",
    "    time_series, eeg_data = extract_eeg_data(first_sheet)\n",
    "    \n",
    "    # Plot first 4 channels\n",
    "    n_channels_to_plot = min(4, len(eeg_data.columns))\n",
    "    n_samples_to_plot = min(1000, len(eeg_data))  # First 1000 samples\n",
    "    \n",
    "    fig, axes = plt.subplots(n_channels_to_plot, 1, figsize=(15, 10))\n",
    "    if n_channels_to_plot == 1:\n",
    "        axes = [axes]\n",
    "    \n",
    "    for i in range(n_channels_to_plot):\n",
    "        channel = eeg_data.columns[i]\n",
    "        data = eeg_data[channel].iloc[:n_samples_to_plot].values\n",
    "        \n",
    "        axes[i].plot(data, linewidth=0.5)\n",
    "        axes[i].set_ylabel(channel)\n",
    "        axes[i].set_xlim(0, n_samples_to_plot)\n",
    "        axes[i].grid(True, alpha=0.3)\n",
    "    \n",
    "    axes[-1].set_xlabel('Sample')\n",
    "    fig.suptitle(f'EEG Signals - Patient {patient_id}, Book 1, Sheet: {first_sheet_name}', \n",
    "                 fontsize=14, fontweight='bold')\n",
    "    plt.tight_layout()\n",
    "    plt.show()"
   ]
  },
  {
   "cell_type": "markdown",
   "metadata": {},
   "source": [
    "## 8. Compare Patients With and Without Seizures"
   ]
  },
  {
   "cell_type": "code",
   "execution_count": null,
   "metadata": {},
   "outputs": [],
   "source": [
    "if available_files and len(available_files) >= 2:\n",
    "    # Load data from patient with seizures (Patient 1)\n",
    "    patient_with_seizures = load_patient_data(1)\n",
    "    \n",
    "    # Load data from patient without seizures (Patient 2, if available)\n",
    "    patients_without_seizures = [p for p in available_files.keys() if not has_seizures(p)]\n",
    "    \n",
    "    if patients_without_seizures:\n",
    "        patient_without_seizures = load_patient_data(patients_without_seizures[0])\n",
    "        \n",
    "        print(\"Comparison:\")\n",
    "        print(f\"\\nPatient {patient_with_seizures['patient_id']} (HAS SEIZURES - ID {patient_with_seizures['seizure_id']}):\")\n",
    "        print(f\"  Books: {patient_with_seizures['metadata']['num_books']}\")\n",
    "        print(f\"  Total sheets: {patient_with_seizures['metadata']['total_sheets']}\")\n",
    "        \n",
    "        print(f\"\\nPatient {patient_without_seizures['patient_id']} (No seizures):\")\n",
    "        print(f\"  Books: {patient_without_seizures['metadata']['num_books']}\")\n",
    "        print(f\"  Total sheets: {patient_without_seizures['metadata']['total_sheets']}\")"
   ]
  },
  {
   "cell_type": "markdown",
   "metadata": {},
   "source": [
    "## 9. Summary\n",
    "\n",
    "This notebook demonstrated:\n",
    "1. Loading Excel files with multiple sheets\n",
    "2. Extracting patient metadata (seizure status)\n",
    "3. Accessing time series and EEG channel data\n",
    "4. Converting to NumPy arrays for analysis\n",
    "5. Visualizing EEG signals\n",
    "\n",
    "## Next Steps\n",
    "\n",
    "- **Feature Extraction**: Extract time-domain and frequency-domain features\n",
    "- **Signal Processing**: Apply filtering, artifact removal\n",
    "- **Seizure Detection**: Build models to detect seizures\n",
    "- **Cross-Patient Analysis**: Compare patterns across patients\n",
    "- **Integration**: Combine with other datasets (Delhi Hospital, CSV dataset)"
   ]
  }
 ],
 "metadata": {
  "kernelspec": {
   "display_name": "Python 3",
   "language": "python",
   "name": "python3"
  },
  "language_info": {
   "codemirror_mode": {
    "name": "ipython",
    "version": 3
   },
   "file_extension": ".py",
   "mimetype": "text/x-python",
   "name": "python",
   "nbconvert_exporter": "python",
   "pygments_lexer": "ipython3",
   "version": "3.8.0"
  }
 },
 "nbformat": 4,
 "nbformat_minor": 4
}
